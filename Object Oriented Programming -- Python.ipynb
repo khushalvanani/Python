{
 "cells": [
  {
   "cell_type": "markdown",
   "id": "2f4f47d5",
   "metadata": {},
   "source": [
    "## Classes and Objects"
   ]
  },
  {
   "cell_type": "markdown",
   "id": "472a9a9e",
   "metadata": {},
   "source": [
    "## Class\n",
    "We can create a class using class keyword. it's like a blueprint for object. it can have attriubute and methods. attribute is like a field or a label. For example, if a object called dog has four legs then attribute would look like:- no_of_legs = 4. method is similar to a function. \n",
    "\n",
    "In python everything is a object. To demonstrate that"
   ]
  },
  {
   "cell_type": "code",
   "execution_count": 1,
   "id": "0442aaea",
   "metadata": {},
   "outputs": [
    {
     "name": "stdout",
     "output_type": "stream",
     "text": [
      "<class 'int'>\n",
      "<class 'list'>\n",
      "<class 'dict'>\n"
     ]
    }
   ],
   "source": [
    "print(type(2))\n",
    "print(type([]))\n",
    "print(type({}))"
   ]
  },
  {
   "cell_type": "markdown",
   "id": "b2f49d7c",
   "metadata": {},
   "source": [
    "You can see that an integer, a list and even a dictionary is a part of class. here 2 can be said as an object of integer class. Now we can define our own class."
   ]
  },
  {
   "cell_type": "markdown",
   "id": "668791eb",
   "metadata": {},
   "source": [
    "Class starts with first character as capital. That's the convention. "
   ]
  },
  {
   "cell_type": "code",
   "execution_count": 2,
   "id": "d219e047",
   "metadata": {},
   "outputs": [],
   "source": [
    "class Animal:\n",
    "    pass"
   ]
  },
  {
   "cell_type": "code",
   "execution_count": 3,
   "id": "8d606572",
   "metadata": {},
   "outputs": [],
   "source": [
    "dog = Animal()"
   ]
  },
  {
   "cell_type": "code",
   "execution_count": 4,
   "id": "ae756a18",
   "metadata": {},
   "outputs": [
    {
     "name": "stdout",
     "output_type": "stream",
     "text": [
      "<class '__main__.Animal'>\n"
     ]
    }
   ],
   "source": [
    "print(type(dog))"
   ]
  },
  {
   "cell_type": "markdown",
   "id": "e9f8ba84",
   "metadata": {},
   "source": [
    "Here dog is an object of Animal class. We instantiated an object called dog from class Animal. "
   ]
  },
  {
   "cell_type": "markdown",
   "id": "17daeba8",
   "metadata": {},
   "source": [
    "## Attributes\n",
    "\n",
    "Now we have to define a method called __init__() because it will be the first method which will be called by class. it will have some arguments which will be assigned when the class is instantiated."
   ]
  },
  {
   "cell_type": "code",
   "execution_count": 5,
   "id": "052a2609",
   "metadata": {},
   "outputs": [],
   "source": [
    "class Animal:\n",
    "    def __init__(self,breed):\n",
    "        self.breed = breed"
   ]
  },
  {
   "cell_type": "code",
   "execution_count": 6,
   "id": "77a31df8",
   "metadata": {},
   "outputs": [],
   "source": [
    "dog = Animal(breed = 'doberman')"
   ]
  },
  {
   "cell_type": "code",
   "execution_count": 7,
   "id": "c89bc8eb",
   "metadata": {},
   "outputs": [
    {
     "data": {
      "text/plain": [
       "'doberman'"
      ]
     },
     "execution_count": 7,
     "metadata": {},
     "output_type": "execute_result"
    }
   ],
   "source": [
    "dog.breed"
   ]
  },
  {
   "cell_type": "markdown",
   "id": "b35d14ba",
   "metadata": {},
   "source": [
    "Here as you can see dog's breed is 'doberman' as we defined. To access attribute you can do it by ObjectName.attributeName."
   ]
  },
  {
   "cell_type": "markdown",
   "id": "eb672a91",
   "metadata": {},
   "source": [
    "I know you have a question. What is self here? self is like 'this' keyword in JavaScript. self is a reference to current instance of a class. in dog object self would be a reference to dog object and a very important term that it doesn't have to be named self. it can be named anything you want."
   ]
  },
  {
   "cell_type": "markdown",
   "id": "21e6db42",
   "metadata": {},
   "source": [
    "There is also a concept of class level attrubutes. What's different is in class attribute every object of that particular class will have same attribute value. For instance, we have a Dog class and we want to make every dog as 'mammal'. so we can define this attribute before __init__ and it will be class level attribute."
   ]
  },
  {
   "cell_type": "code",
   "execution_count": 8,
   "id": "82eec1b6",
   "metadata": {},
   "outputs": [],
   "source": [
    "class Dog:\n",
    "    species = 'mammal'\n",
    "    def __init__(self,breed,no_of_legs):\n",
    "        self.breed = breed\n",
    "        self.no_of_legs = no_of_legs\n",
    "    "
   ]
  },
  {
   "cell_type": "code",
   "execution_count": 9,
   "id": "414300f9",
   "metadata": {},
   "outputs": [],
   "source": [
    "laper = Dog(breed = 'doberman',no_of_legs=4)\n",
    "casey = Dog(breed='lebrador',no_of_legs=4)"
   ]
  },
  {
   "cell_type": "code",
   "execution_count": 11,
   "id": "2f5b2e80",
   "metadata": {},
   "outputs": [
    {
     "data": {
      "text/plain": [
       "'mammal'"
      ]
     },
     "execution_count": 11,
     "metadata": {},
     "output_type": "execute_result"
    }
   ],
   "source": [
    "laper.species"
   ]
  },
  {
   "cell_type": "code",
   "execution_count": 12,
   "id": "520c4d1c",
   "metadata": {},
   "outputs": [
    {
     "data": {
      "text/plain": [
       "'mammal'"
      ]
     },
     "execution_count": 12,
     "metadata": {},
     "output_type": "execute_result"
    }
   ],
   "source": [
    "casey.species"
   ]
  },
  {
   "cell_type": "code",
   "execution_count": 13,
   "id": "c4677552",
   "metadata": {},
   "outputs": [
    {
     "data": {
      "text/plain": [
       "'doberman'"
      ]
     },
     "execution_count": 13,
     "metadata": {},
     "output_type": "execute_result"
    }
   ],
   "source": [
    "laper.breed"
   ]
  },
  {
   "cell_type": "code",
   "execution_count": 14,
   "id": "029c1440",
   "metadata": {},
   "outputs": [
    {
     "data": {
      "text/plain": [
       "'lebrador'"
      ]
     },
     "execution_count": 14,
     "metadata": {},
     "output_type": "execute_result"
    }
   ],
   "source": [
    "casey.breed"
   ]
  },
  {
   "cell_type": "markdown",
   "id": "605ae278",
   "metadata": {},
   "source": [
    "you can see that laper and casey both are instance of Dog class and they have a same attribute which is called species and have also the same value 'mammal'."
   ]
  },
  {
   "cell_type": "markdown",
   "id": "53a4f26a",
   "metadata": {},
   "source": [
    "## Methods\n",
    "methods are just like functions attached to a object. think of a list and all the methods that you can call on that. Methods like append, index and etc are available in list. \n",
    "\n",
    "Now if we focus on our dog class then dog can have a bark method which will simply do what we tell it to do. Think of methods as functionality which any instance of Dog can have. Examples -- barking, swimming, eating, sleeping and more.\n"
   ]
  },
  {
   "cell_type": "code",
   "execution_count": 24,
   "id": "3fab83ac",
   "metadata": {},
   "outputs": [],
   "source": [
    "class Dog:\n",
    "    species = 'mammal'\n",
    "    \n",
    "    def __init__(self,breed,legs):\n",
    "        self.breed = breed\n",
    "        self.legs = legs\n",
    "        \n",
    "    def bark(self,times):\n",
    "        print(times * \"Woof \")"
   ]
  },
  {
   "cell_type": "code",
   "execution_count": 25,
   "id": "b953ca63",
   "metadata": {},
   "outputs": [],
   "source": [
    "tommy = Dog(\"Lebrador\",4)"
   ]
  },
  {
   "cell_type": "code",
   "execution_count": 26,
   "id": "8e21cf38",
   "metadata": {},
   "outputs": [
    {
     "data": {
      "text/plain": [
       "'Lebrador'"
      ]
     },
     "execution_count": 26,
     "metadata": {},
     "output_type": "execute_result"
    }
   ],
   "source": [
    "tommy.breed"
   ]
  },
  {
   "cell_type": "code",
   "execution_count": 27,
   "id": "f7e7d4c5",
   "metadata": {},
   "outputs": [
    {
     "name": "stdout",
     "output_type": "stream",
     "text": [
      "Woof Woof Woof Woof \n"
     ]
    }
   ],
   "source": [
    "tommy.bark(4)"
   ]
  },
  {
   "cell_type": "markdown",
   "id": "34e9bf4d",
   "metadata": {},
   "source": [
    "Another example to understand class"
   ]
  },
  {
   "cell_type": "code",
   "execution_count": 1,
   "id": "e5daff54",
   "metadata": {},
   "outputs": [],
   "source": [
    "class Circle:\n",
    "    pi = 3.14\n",
    "    \n",
    "    def __init__(self,radius):\n",
    "        self.radius = radius\n",
    "        \n",
    "    def set_radius(self,new_radius):\n",
    "        self.radius = new_radius\n",
    "    \n",
    "    def area_circle(self):\n",
    "        return self.radius * Circle.pi * self.radius\n",
    "    \n",
    "    "
   ]
  },
  {
   "cell_type": "code",
   "execution_count": 2,
   "id": "4ef4b828",
   "metadata": {},
   "outputs": [],
   "source": [
    "circle = Circle(4)"
   ]
  },
  {
   "cell_type": "code",
   "execution_count": 3,
   "id": "cf0100dd",
   "metadata": {},
   "outputs": [
    {
     "data": {
      "text/plain": [
       "50.24"
      ]
     },
     "execution_count": 3,
     "metadata": {},
     "output_type": "execute_result"
    }
   ],
   "source": [
    "circle.area_circle()"
   ]
  },
  {
   "cell_type": "code",
   "execution_count": 6,
   "id": "62621976",
   "metadata": {},
   "outputs": [
    {
     "name": "stdout",
     "output_type": "stream",
     "text": [
      "radius is 4\n"
     ]
    }
   ],
   "source": [
    "print(\"radius is\",circle.radius)"
   ]
  },
  {
   "cell_type": "markdown",
   "id": "bb387a37",
   "metadata": {},
   "source": [
    "## Inheritance\n",
    "\n",
    "Inheritance is a concept of object oriented programming. In simple words, it represents is-a relationship. For example, Dog is a Animal. Cat is a Animal. Cedan is a car. These all represents inheritance. Dog is a subclass which inherits all the functionality of Animal superclass. Dog class will have access to all the behaviour of Animal class and even better it can override methods of Animal class.\n",
    "\n",
    "There is also a concept of has-a relationship. Car has tires. car is not a tire. So it is not inheritance."
   ]
  },
  {
   "cell_type": "code",
   "execution_count": 18,
   "id": "12f040bc",
   "metadata": {},
   "outputs": [],
   "source": [
    "class Car:\n",
    "    def __init__(self,has_tires):\n",
    "        self.has_tiers = has_tires\n",
    "        print(\"Car Created\")\n",
    "        \n",
    "    def increase_speed(speed):\n",
    "        print(\"Your speed is increased by\",speed)\n",
    "        \n",
    "class Cedan(Car):\n",
    "    def __init__(self,engine,window,auto_gear):\n",
    "        Car.__init__(self,has_tires = True)\n",
    "        self.engine = engine\n",
    "        self.window = window\n",
    "        self.auto_gear = auto_gear\n",
    "        print(\"Cedan Created\")\n",
    "        \n",
    "    def make_noise(self):\n",
    "        print(\"Vrooom --- By a sedan\")\n",
    "        \n",
    "    "
   ]
  },
  {
   "cell_type": "code",
   "execution_count": 19,
   "id": "70ab5db8",
   "metadata": {},
   "outputs": [
    {
     "name": "stdout",
     "output_type": "stream",
     "text": [
      "Car Created\n",
      "Cedan Created\n"
     ]
    }
   ],
   "source": [
    "rapid = Cedan(engine = '5.0 L',window = 4, auto_gear = True)"
   ]
  },
  {
   "cell_type": "markdown",
   "id": "b2478be7",
   "metadata": {},
   "source": [
    "## Polymorphism\n",
    "\n",
    "In Python, polymorphism refers to the way in which different object classes can share the same method name, and those methods can be called from the same place even though a variety of different objects might be passed in. The best way to explain this is by example:"
   ]
  },
  {
   "cell_type": "code",
   "execution_count": 22,
   "id": "fe5d4bf9",
   "metadata": {},
   "outputs": [],
   "source": [
    "class Animal:\n",
    "    def __init__(self):\n",
    "        print(\"Animal Created\")\n",
    "        \n",
    "    def speak(self):\n",
    "        print(\"Animal Speaking: Blah Blah\")\n",
    "        \n",
    "class Dog:\n",
    "    def __init__(self):\n",
    "        print(\"Dog created\")\n",
    "        \n",
    "    def speak(self):\n",
    "        print(\"Dog Speaking: Woof Woof Woof\")\n"
   ]
  },
  {
   "cell_type": "code",
   "execution_count": 23,
   "id": "0195f7c3",
   "metadata": {},
   "outputs": [
    {
     "name": "stdout",
     "output_type": "stream",
     "text": [
      "Animal Created\n",
      "Dog created\n"
     ]
    }
   ],
   "source": [
    "ls = [Animal(),Dog()]"
   ]
  },
  {
   "cell_type": "code",
   "execution_count": 25,
   "id": "2ac0b79d",
   "metadata": {},
   "outputs": [
    {
     "data": {
      "text/plain": [
       "<__main__.Dog at 0x7fa970ed4490>"
      ]
     },
     "execution_count": 25,
     "metadata": {},
     "output_type": "execute_result"
    }
   ],
   "source": [
    "ls[1]"
   ]
  },
  {
   "cell_type": "code",
   "execution_count": 26,
   "id": "5c3a58f4",
   "metadata": {},
   "outputs": [
    {
     "name": "stdout",
     "output_type": "stream",
     "text": [
      "Animal Speaking: Blah Blah\n",
      "Dog Speaking: Woof Woof Woof\n"
     ]
    }
   ],
   "source": [
    "for i in ls:\n",
    "    i.speak()"
   ]
  },
  {
   "cell_type": "markdown",
   "id": "485e9b40",
   "metadata": {},
   "source": [
    "## Abstract Classes\n",
    "\n",
    "Abstract classes are classes which will never instantiate. For instance, Animal class. we would never need an animal object."
   ]
  },
  {
   "cell_type": "code",
   "execution_count": 27,
   "id": "c281f14a",
   "metadata": {},
   "outputs": [
    {
     "name": "stdout",
     "output_type": "stream",
     "text": [
      "Fido says Woof!\n",
      "Isis says Meow!\n"
     ]
    }
   ],
   "source": [
    "class Animal:\n",
    "    def __init__(self, name):    # Constructor of the class\n",
    "        self.name = name\n",
    "\n",
    "    def speak(self):              # Abstract method, defined by convention only\n",
    "        raise NotImplementedError(\"Subclass must implement abstract method\")\n",
    "\n",
    "\n",
    "class Dog(Animal):\n",
    "    \n",
    "    def speak(self):\n",
    "        return self.name+' says Woof!'\n",
    "    \n",
    "class Cat(Animal):\n",
    "\n",
    "    def speak(self):\n",
    "        return self.name+' says Meow!'\n",
    "    \n",
    "fido = Dog('Fido')\n",
    "isis = Cat('Isis')\n",
    "\n",
    "print(fido.speak())\n",
    "print(isis.speak())"
   ]
  },
  {
   "cell_type": "markdown",
   "id": "0db811d1",
   "metadata": {},
   "source": [
    "## Special Methods \n",
    "\n",
    "lasses in Python can implement certain operations with special method names. These methods are not actually called directly but by Python specific language syntax. For example let's create a Book class:"
   ]
  },
  {
   "cell_type": "code",
   "execution_count": 32,
   "id": "d15dda41",
   "metadata": {},
   "outputs": [],
   "source": [
    "class Book:\n",
    "    def __init__(self,author,title,pages):\n",
    "        self.author = author\n",
    "        self.title = title\n",
    "        self.pages = pages\n",
    "        \n",
    "    def __str__(self):\n",
    "        return f\"{self.title} by {self.author} pages - {self.pages}\""
   ]
  },
  {
   "cell_type": "markdown",
   "id": "39914fcc",
   "metadata": {},
   "source": [
    "Here str represent string representation. "
   ]
  },
  {
   "cell_type": "markdown",
   "id": "06e70fa2",
   "metadata": {},
   "source": [
    "There are other methods available like len,del and so on."
   ]
  },
  {
   "cell_type": "code",
   "execution_count": 33,
   "id": "dd545054",
   "metadata": {},
   "outputs": [],
   "source": [
    "b = Book(\"Jake Gyllanhall\",\"Life moves on\",194)"
   ]
  },
  {
   "cell_type": "code",
   "execution_count": 34,
   "id": "ca6bfc7b",
   "metadata": {},
   "outputs": [
    {
     "name": "stdout",
     "output_type": "stream",
     "text": [
      "Life moves on by Jake Gyllanhall pages - 194\n"
     ]
    }
   ],
   "source": [
    "print(b)"
   ]
  },
  {
   "cell_type": "code",
   "execution_count": 36,
   "id": "1bf90384",
   "metadata": {},
   "outputs": [
    {
     "data": {
      "text/plain": [
       "'Life moves on by Jake Gyllanhall pages - 194'"
      ]
     },
     "execution_count": 36,
     "metadata": {},
     "output_type": "execute_result"
    }
   ],
   "source": [
    "str(b)"
   ]
  },
  {
   "cell_type": "code",
   "execution_count": 37,
   "id": "88dc3427",
   "metadata": {},
   "outputs": [
    {
     "data": {
      "text/plain": [
       "<__main__.Book at 0x7fa970ed4940>"
      ]
     },
     "execution_count": 37,
     "metadata": {},
     "output_type": "execute_result"
    }
   ],
   "source": [
    "b"
   ]
  },
  {
   "cell_type": "code",
   "execution_count": null,
   "id": "04cec00b",
   "metadata": {},
   "outputs": [],
   "source": []
  }
 ],
 "metadata": {
  "kernelspec": {
   "display_name": "Python 3 (ipykernel)",
   "language": "python",
   "name": "python3"
  },
  "language_info": {
   "codemirror_mode": {
    "name": "ipython",
    "version": 3
   },
   "file_extension": ".py",
   "mimetype": "text/x-python",
   "name": "python",
   "nbconvert_exporter": "python",
   "pygments_lexer": "ipython3",
   "version": "3.9.13"
  }
 },
 "nbformat": 4,
 "nbformat_minor": 5
}
